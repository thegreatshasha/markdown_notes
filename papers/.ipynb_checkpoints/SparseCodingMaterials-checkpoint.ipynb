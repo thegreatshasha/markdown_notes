{
 "cells": [
  {
   "cell_type": "markdown",
   "metadata": {
    "deletable": true,
    "editable": true
   },
   "source": [
    "# Sparse Coding\n",
    "In sparse coding we break down a dense code into a bunch of sparse codes, analogous to the "
   ]
  },
  {
   "cell_type": "markdown",
   "metadata": {
    "deletable": true,
    "editable": true
   },
   "source": [
    "## Image classification using sparse coding: Kai hu\n",
    "* Feature quality is really important for accuracy\n",
    "* Also accounts for most of the computation time\n",
    "* Important to have fast features computable\n",
    "* Deep learning designs feature learners instead of features\n",
    "* Sparse coding gives an effective building block to learn  features."
   ]
  },
  {
   "cell_type": "markdown",
   "metadata": {
    "deletable": true,
    "editable": true
   },
   "source": [
    "## Topics\n",
    "* Sparse coding for image classification.\n",
    "* Understanding sparse coding.\n",
    "* Hierarchial sparse coding. Wtf?\n",
    "* Structured model, scaled up discriminative training."
   ]
  },
  {
   "cell_type": "markdown",
   "metadata": {
    "deletable": true,
    "editable": true
   },
   "source": [
    "## Bag of words representation\n",
    "* Bag of visual words representation works effectively, even though there is spatial structure."
   ]
  },
  {
   "cell_type": "markdown",
   "metadata": {
    "deletable": true,
    "editable": true
   },
   "source": [
    "![Spatial Pyramid](spatial_pyramid.png)"
   ]
  },
  {
   "cell_type": "markdown",
   "metadata": {
    "deletable": true,
    "editable": true
   },
   "source": [
    "## Spatial pyramid matching\n",
    "* Q: What are these spikes? A: These are spatial histograms\n",
    "* We build really coarse histograms plus more and more fine grained ones.\n",
    "* Matching is done between all of these.\n",
    "* Play around with an example of spatial pyramid matching.\n",
    "* You know nothing yet unless you understand how these things work exactly."
   ]
  },
  {
   "cell_type": "markdown",
   "metadata": {},
   "source": [
    "## Normal Approach (previous?)\n",
    "* Image -> DenseSIFT -> VQCoding -> Spatial pooling (histogram matching)\n",
    "* Classifier is applied on top of the spatial pooling output."
   ]
  },
  {
   "cell_type": "markdown",
   "metadata": {
    "deletable": true,
    "editable": true
   },
   "source": [
    "## Questions\n",
    "* What do the beetle images look like in the dictionary domain?\n",
    "* What do the beetle images look like in the sparse signal basis?\n",
    "* Isn't spatial pyramid matching pretty similar to what we are trying to do with curvature flow? Structure across different scales.\n",
    "* Maybe we should do something crass like this earlier."
   ]
  },
  {
   "cell_type": "code",
   "execution_count": null,
   "metadata": {
    "collapsed": true,
    "deletable": true,
    "editable": true
   },
   "outputs": [],
   "source": []
  }
 ],
 "metadata": {
  "kernelspec": {
   "display_name": "Python 2",
   "language": "python",
   "name": "python2"
  },
  "language_info": {
   "codemirror_mode": {
    "name": "ipython",
    "version": 2
   },
   "file_extension": ".py",
   "mimetype": "text/x-python",
   "name": "python",
   "nbconvert_exporter": "python",
   "pygments_lexer": "ipython2",
   "version": "2.7.12"
  },
  "toc": {
   "colors": {
    "hover_highlight": "#DAA520",
    "navigate_num": "#000000",
    "navigate_text": "#333333",
    "running_highlight": "#FF0000",
    "selected_highlight": "#FFD700",
    "sidebar_border": "#EEEEEE",
    "wrapper_background": "#FFFFFF"
   },
   "moveMenuLeft": true,
   "navigate_menu": false,
   "number_sections": true,
   "sideBar": true,
   "threshold": 4,
   "toc_cell": false,
   "toc_section_display": "block",
   "toc_window_display": true,
   "widenNotebook": false
  }
 },
 "nbformat": 4,
 "nbformat_minor": 2
}
